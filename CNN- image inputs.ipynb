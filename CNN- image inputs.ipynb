{
 "cells": [
  {
   "cell_type": "code",
   "execution_count": 2,
   "id": "1a9e0093-5746-4c46-8c44-7535f3ed11a6",
   "metadata": {},
   "outputs": [],
   "source": [
    "import tensorflow\n",
    "from tensorflow.keras.models import Sequential\n",
    "from tensorflow.keras.layers import Dense, MaxPooling2D, Conv2D, Dropout, Activation, Flatten\n",
    "from tensorflow.keras.preprocessing.image import ImageDataGenerator #To load the images"
   ]
  },
  {
   "cell_type": "code",
   "execution_count": 4,
   "id": "5e01578b-1933-48ca-abe3-4f41715c3731",
   "metadata": {},
   "outputs": [
    {
     "name": "stdout",
     "output_type": "stream",
     "text": [
      "Found 800 images belonging to 2 classes.\n",
      "Found 200 images belonging to 2 classes.\n"
     ]
    }
   ],
   "source": [
    "#Load the image inputs from the folder:\n",
    "#Step 1- set up params for pictures that will be set in training variable:\n",
    "train_datagen=ImageDataGenerator(\n",
    "    rescale=1.0/255,\n",
    "    shear_range=0.2,\n",
    "    zoom_range=0.2,\n",
    "    horizontal_flip=True)\n",
    "\n",
    "#Step 2- set up params for pictures that will be set in testing variable\n",
    "test_datagen=ImageDataGenerator(rescale=1.0/255) #We dont need to adjust the other factors since these pictures are for testing\n",
    "\n",
    "#Step 3- Import Training data from its folder\n",
    "train_generator=train_datagen.flow_from_directory(\n",
    "    './Animals/train',\n",
    "    target_size=(512,512),\n",
    "    batch_size=32,\n",
    "    class_mode='binary'\n",
    ")\n",
    "\n",
    "#Step 4- Import Testing data from its folder\n",
    "validation_generator=test_datagen.flow_from_directory(\n",
    "    './Animals/test',\n",
    "    target_size=(512,512),\n",
    "    batch_size=32,\n",
    "    class_mode='binary'\n",
    ")"
   ]
  },
  {
   "cell_type": "code",
   "execution_count": 5,
   "id": "cdc63d78-b8c5-4045-9182-46be2e7cd02b",
   "metadata": {},
   "outputs": [
    {
     "name": "stderr",
     "output_type": "stream",
     "text": [
      "C:\\Users\\de\\AppData\\Roaming\\Python\\Python312\\site-packages\\keras\\src\\layers\\convolutional\\base_conv.py:107: UserWarning: Do not pass an `input_shape`/`input_dim` argument to a layer. When using Sequential models, prefer using an `Input(shape)` object as the first layer in the model instead.\n",
      "  super().__init__(activity_regularizer=activity_regularizer, **kwargs)\n"
     ]
    }
   ],
   "source": [
    "#Creating the model:\n",
    "cnn=Sequential()\n",
    "\n",
    "cnn.add(Conv2D(32, (3, 3),activation='relu', input_shape=(512, 512, 3)))\n",
    "cnn.add(MaxPooling2D(pool_size=(2, 2)))\n",
    "\n",
    "cnn.add(Conv2D(32, (3, 3),activation='relu'))\n",
    "cnn.add(MaxPooling2D(pool_size=(2, 2)))\n",
    "\n",
    "cnn.add(Flatten())\n",
    "\n",
    "cnn.add(Dense(units=64, activation='relu'))\n",
    "cnn.add(Dense(units=32, activation='relu'))\n",
    "cnn.add(Dense(units=1, activation='sigmoid'))\n",
    "\n",
    "cnn.compile(optimizer='adam', loss='binary_crossentropy', metrics=['accuracy'])"
   ]
  },
  {
   "cell_type": "code",
   "execution_count": 6,
   "id": "144eb509-eef2-407b-bfab-73b7da5975a5",
   "metadata": {},
   "outputs": [],
   "source": [
    "#Compiling the model:\n",
    "cnn.compile(optimizer='adam', loss='binary_crossentropy', metrics=['accuracy'])"
   ]
  },
  {
   "cell_type": "code",
   "execution_count": 7,
   "id": "eb0874b8-c076-4361-8cc5-ba5a3f60b0e9",
   "metadata": {},
   "outputs": [
    {
     "name": "stderr",
     "output_type": "stream",
     "text": [
      "C:\\Users\\de\\AppData\\Roaming\\Python\\Python312\\site-packages\\keras\\src\\trainers\\data_adapters\\py_dataset_adapter.py:121: UserWarning: Your `PyDataset` class should call `super().__init__(**kwargs)` in its constructor. `**kwargs` can include `workers`, `use_multiprocessing`, `max_queue_size`. Do not pass these arguments to `fit()`, as they will be ignored.\n",
      "  self._warn_if_super_not_called()\n"
     ]
    },
    {
     "name": "stdout",
     "output_type": "stream",
     "text": [
      "Epoch 1/10\n",
      "\u001b[1m25/25\u001b[0m \u001b[32m━━━━━━━━━━━━━━━━━━━━\u001b[0m\u001b[37m\u001b[0m \u001b[1m0s\u001b[0m 8s/step - accuracy: 0.5354 - loss: 3.1309"
     ]
    },
    {
     "name": "stderr",
     "output_type": "stream",
     "text": [
      "C:\\Users\\de\\AppData\\Roaming\\Python\\Python312\\site-packages\\keras\\src\\trainers\\data_adapters\\py_dataset_adapter.py:121: UserWarning: Your `PyDataset` class should call `super().__init__(**kwargs)` in its constructor. `**kwargs` can include `workers`, `use_multiprocessing`, `max_queue_size`. Do not pass these arguments to `fit()`, as they will be ignored.\n",
      "  self._warn_if_super_not_called()\n"
     ]
    },
    {
     "name": "stdout",
     "output_type": "stream",
     "text": [
      "\u001b[1m25/25\u001b[0m \u001b[32m━━━━━━━━━━━━━━━━━━━━\u001b[0m\u001b[37m\u001b[0m \u001b[1m275s\u001b[0m 9s/step - accuracy: 0.5382 - loss: 3.0777 - val_accuracy: 0.7450 - val_loss: 0.5694\n",
      "Epoch 2/10\n",
      "\u001b[1m25/25\u001b[0m \u001b[32m━━━━━━━━━━━━━━━━━━━━\u001b[0m\u001b[37m\u001b[0m \u001b[1m162s\u001b[0m 6s/step - accuracy: 0.7702 - loss: 0.4913 - val_accuracy: 0.7900 - val_loss: 0.4640\n",
      "Epoch 3/10\n",
      "\u001b[1m25/25\u001b[0m \u001b[32m━━━━━━━━━━━━━━━━━━━━\u001b[0m\u001b[37m\u001b[0m \u001b[1m159s\u001b[0m 6s/step - accuracy: 0.8577 - loss: 0.3668 - val_accuracy: 0.8800 - val_loss: 0.3241\n",
      "Epoch 4/10\n",
      "\u001b[1m25/25\u001b[0m \u001b[32m━━━━━━━━━━━━━━━━━━━━\u001b[0m\u001b[37m\u001b[0m \u001b[1m162s\u001b[0m 6s/step - accuracy: 0.8911 - loss: 0.2678 - val_accuracy: 0.8650 - val_loss: 0.3043\n",
      "Epoch 5/10\n",
      "\u001b[1m25/25\u001b[0m \u001b[32m━━━━━━━━━━━━━━━━━━━━\u001b[0m\u001b[37m\u001b[0m \u001b[1m196s\u001b[0m 8s/step - accuracy: 0.9045 - loss: 0.2418 - val_accuracy: 0.9300 - val_loss: 0.2012\n",
      "Epoch 6/10\n",
      "\u001b[1m25/25\u001b[0m \u001b[32m━━━━━━━━━━━━━━━━━━━━\u001b[0m\u001b[37m\u001b[0m \u001b[1m186s\u001b[0m 7s/step - accuracy: 0.9572 - loss: 0.1433 - val_accuracy: 0.9400 - val_loss: 0.1562\n",
      "Epoch 7/10\n",
      "\u001b[1m25/25\u001b[0m \u001b[32m━━━━━━━━━━━━━━━━━━━━\u001b[0m\u001b[37m\u001b[0m \u001b[1m296s\u001b[0m 12s/step - accuracy: 0.9709 - loss: 0.0966 - val_accuracy: 0.9450 - val_loss: 0.1488\n",
      "Epoch 8/10\n",
      "\u001b[1m25/25\u001b[0m \u001b[32m━━━━━━━━━━━━━━━━━━━━\u001b[0m\u001b[37m\u001b[0m \u001b[1m248s\u001b[0m 10s/step - accuracy: 0.9798 - loss: 0.0946 - val_accuracy: 0.9200 - val_loss: 0.1898\n",
      "Epoch 9/10\n",
      "\u001b[1m25/25\u001b[0m \u001b[32m━━━━━━━━━━━━━━━━━━━━\u001b[0m\u001b[37m\u001b[0m \u001b[1m224s\u001b[0m 9s/step - accuracy: 0.9736 - loss: 0.0646 - val_accuracy: 0.9000 - val_loss: 0.2647\n",
      "Epoch 10/10\n",
      "\u001b[1m25/25\u001b[0m \u001b[32m━━━━━━━━━━━━━━━━━━━━\u001b[0m\u001b[37m\u001b[0m \u001b[1m214s\u001b[0m 8s/step - accuracy: 0.9567 - loss: 0.0972 - val_accuracy: 0.9650 - val_loss: 0.1000\n"
     ]
    },
    {
     "data": {
      "text/plain": [
       "<keras.src.callbacks.history.History at 0x2290e77c4d0>"
      ]
     },
     "execution_count": 7,
     "metadata": {},
     "output_type": "execute_result"
    }
   ],
   "source": [
    "#Running the model:\n",
    "cnn.fit(\n",
    "    train_generator,\n",
    "    epochs=10,\n",
    "    validation_data=validation_generator\n",
    ")"
   ]
  },
  {
   "cell_type": "code",
   "execution_count": 13,
   "id": "5ad0e109-a6d4-4b3b-8cb8-3c17981f46f9",
   "metadata": {},
   "outputs": [
    {
     "name": "stdout",
     "output_type": "stream",
     "text": [
      "\u001b[1m1/1\u001b[0m \u001b[32m━━━━━━━━━━━━━━━━━━━━\u001b[0m\u001b[37m\u001b[0m \u001b[1m0s\u001b[0m 140ms/step\n",
      "It is a dog\n"
     ]
    }
   ],
   "source": [
    "#Classifying the input pictures:\n",
    "import numpy as np\n",
    "from keras.preprocessing import image\n",
    "\n",
    "img=image.load_img('./Animals/test/dog/00505-3846168667.png',target_size=(512,512)) #Load the image from source\n",
    "img=image.img_to_array(img) #converting the image into array\n",
    "img=np.expand_dims(img, axis=0)\n",
    "\n",
    "result=cnn.predict(img)\n",
    "if result[0][0]<0.5:\n",
    "    print(\"It is a cat\")\n",
    "else:\n",
    "    print(\"It is a dog\")"
   ]
  }
 ],
 "metadata": {
  "kernelspec": {
   "display_name": "Python 3 (ipykernel)",
   "language": "python",
   "name": "python3"
  },
  "language_info": {
   "codemirror_mode": {
    "name": "ipython",
    "version": 3
   },
   "file_extension": ".py",
   "mimetype": "text/x-python",
   "name": "python",
   "nbconvert_exporter": "python",
   "pygments_lexer": "ipython3",
   "version": "3.12.4"
  }
 },
 "nbformat": 4,
 "nbformat_minor": 5
}
